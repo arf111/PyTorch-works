{
  "nbformat": 4,
  "nbformat_minor": 0,
  "metadata": {
    "colab": {
      "name": "cyclic_learning_rate.ipynb",
      "version": "0.3.2",
      "provenance": [],
      "collapsed_sections": []
    },
    "kernelspec": {
      "name": "python3",
      "display_name": "Python 3"
    },
    "accelerator": "GPU"
  },
  "cells": [
    {
      "cell_type": "code",
      "metadata": {
        "id": "SQHYUpsV4CvN",
        "colab_type": "code",
        "colab": {}
      },
      "source": [
        "import torch\n",
        "import torchvision\n",
        "import torch.nn as nn\n",
        "import torch.nn.functional as F\n",
        "import torch.optim as optim\n",
        "import torchvision.transforms as transforms\n",
        "\n",
        "import matplotlib.pyplot as plt\n",
        "import numpy as np"
      ],
      "execution_count": 0,
      "outputs": []
    },
    {
      "cell_type": "code",
      "metadata": {
        "id": "BIEIieUh5HOx",
        "colab_type": "code",
        "colab": {}
      },
      "source": [
        "transforms = transforms.Compose([\n",
        "    transforms.ToTensor(),\n",
        "    transforms.Normalize((0.5,),(0.5,))\n",
        "])\n",
        "\n",
        "batch_size = 4\n",
        "\n",
        "trainset = torchvision.datasets.MNIST(root='./data', train=True,\n",
        "                                     download=True, transform = transforms)\n",
        "trainloader = torch.utils.data.DataLoader(trainset,\n",
        "                                          batch_size=batch_size,\n",
        "                                          shuffle = True,\n",
        "                                          num_workers=2\n",
        "                                         )\n",
        "\n",
        "testset = torchvision.datasets.MNIST(root='./data', train=False,\n",
        "                                    download = True, transform=transforms)\n",
        "testloader = torch.utils.data.DataLoader(testset, \n",
        "                                         batch_size=batch_size,\n",
        "                                         shuffle=False, \n",
        "                                         num_workers=2\n",
        "                                        )"
      ],
      "execution_count": 0,
      "outputs": []
    },
    {
      "cell_type": "code",
      "metadata": {
        "id": "2d-hiDbd7M5c",
        "colab_type": "code",
        "colab": {}
      },
      "source": [
        "class Model(nn.Module):\n",
        "  def __init__(self):\n",
        "    super(Model, self).__init__()\n",
        "    \n",
        "    self.conv1 = nn.Conv2d(1, 6, 3)\n",
        "    self.pool = nn.MaxPool2d(2, 2)\n",
        "    self.conv2 = nn.Conv2d(6, 20, 3)\n",
        "    \n",
        "    self.fc1 = nn.Linear(20 * 5 * 5, 120)\n",
        "    self.fc2 = nn.Linear(120, 84)\n",
        "    self.fc3 = nn.Linear(84, 10)\n",
        "    \n",
        "  def forward(self, x):\n",
        "    x = self.pool(F.relu(self.conv1(x)))\n",
        "    x = self.pool(F.relu(self.conv2(x)))\n",
        "    \n",
        "    x = x.view(-1, 20 * 5 * 5)\n",
        "    x = F.relu(self.fc1(x))\n",
        "    x = F.relu(self.fc2(x))\n",
        "    x = self.fc3(x)\n",
        "    return x\n",
        "  \n",
        "model = Model()  "
      ],
      "execution_count": 0,
      "outputs": []
    },
    {
      "cell_type": "code",
      "metadata": {
        "id": "H-aX0P9rfB1h",
        "colab_type": "code",
        "colab": {
          "base_uri": "https://localhost:8080/",
          "height": 164
        },
        "outputId": "b743ab79-3f7e-49ea-ab47-e330e6840170"
      },
      "source": [
        "device = torch.device(\"cuda:0\" if torch.cuda.is_available() else \"cpu\")\n",
        "\n",
        "model.to(device)"
      ],
      "execution_count": 11,
      "outputs": [
        {
          "output_type": "execute_result",
          "data": {
            "text/plain": [
              "Model(\n",
              "  (conv1): Conv2d(1, 6, kernel_size=(3, 3), stride=(1, 1))\n",
              "  (pool): MaxPool2d(kernel_size=2, stride=2, padding=0, dilation=1, ceil_mode=False)\n",
              "  (conv2): Conv2d(6, 20, kernel_size=(3, 3), stride=(1, 1))\n",
              "  (fc1): Linear(in_features=500, out_features=120, bias=True)\n",
              "  (fc2): Linear(in_features=120, out_features=84, bias=True)\n",
              "  (fc3): Linear(in_features=84, out_features=10, bias=True)\n",
              ")"
            ]
          },
          "metadata": {
            "tags": []
          },
          "execution_count": 11
        }
      ]
    },
    {
      "cell_type": "markdown",
      "metadata": {
        "id": "27pvdWspyxfB",
        "colab_type": "text"
      },
      "source": [
        "# Cyclical Learning Rate Schedule\n",
        "\n",
        "The learning rate schedule is,\n",
        "\n",
        "$$\\eta_{t} = \\eta_{min} + (\\eta_{max} - \\eta_{min}) * max(0, 1 - x )$$\n",
        "\n",
        "where $x$ is defined as, \n",
        "\n",
        "$$ x = \\left | \\frac{iterations}{stepsize} - 2 * cycle + 1  \\right | $$ \n",
        "\n",
        "and $cycle$ can be calculated as,\n",
        "\n",
        "$$ cycle = floor(\\frac{1+iterations}{2 * stepsize}) $$\n",
        "\n",
        "## Terminology:\n",
        "\n",
        "$\\eta_{min}, \\eta_{max}$ = Learning rate boundary\n",
        "\n",
        "$iterations$ = no of completed mini-batches\n",
        "\n",
        "$stepsize$ = $\\frac{1}{2}$ of a cycle length"
      ]
    },
    {
      "cell_type": "code",
      "metadata": {
        "id": "WMW93AtZfUiX",
        "colab_type": "code",
        "colab": {}
      },
      "source": [
        "class MyCyclicLR(object):\n",
        "  def __init__(self, optimizer, base_lr = 1e-3, max_lr = 6e-3, \n",
        "               step_size = 2000, mode='triangular', \n",
        "               last_epoch=-1):\n",
        "    \n",
        "    self.optimizer = optimizer\n",
        "    \n",
        "    self.base_lrs = [base_lr] * len(optimizer.param_groups)\n",
        "    \n",
        "    self.max_lrs = [max_lr] * len(optimizer.param_groups)\n",
        "    \n",
        "    self.step_size = step_size\n",
        "    \n",
        "    self.step(last_epoch + 1)\n",
        "    self.last_epoch = last_epoch\n",
        "    \n",
        "#     only implemented triangular.\n",
        "    self.mode = mode\n",
        "  \n",
        "#   the step function will be called throughout the epochs\n",
        "  def step(self, batch_iteration = None):\n",
        "    if batch_iteration is None:\n",
        "      batch_iteration = self.last_epoch + 1\n",
        "      \n",
        "    self.last_epoch = batch_iteration\n",
        "    \n",
        "#     now get the learning rate from get_lr() func and set to optimizer parameter's learning rate \n",
        "    for lr, param_group in zip(self.get_lr(), self.optimizer.param_groups):\n",
        "        param_group['lr'] = lr\n",
        "    \n",
        "  def get_lr(self):\n",
        "    step_size = float(self.step_size)\n",
        "    cycle = np.floor(1 + self.last_epoch / (2 * step_size))\n",
        "    x = np.abs(self.last_epoch / step_size - 2 * cycle + 1)\n",
        "    \n",
        "    lrs = []\n",
        "    \n",
        "    for base_lr, max_lr in zip(self.base_lrs, self.max_lrs):\n",
        "      lr = base_lr + (max_lr - base_lr) * np.maximum(0, (1-x))\n",
        "      \n",
        "      lrs.append(lr)\n",
        "    \n",
        "    return lrs    "
      ],
      "execution_count": 0,
      "outputs": []
    },
    {
      "cell_type": "code",
      "metadata": {
        "id": "OGPWRS6_fFBQ",
        "colab_type": "code",
        "colab": {}
      },
      "source": [
        "criterion = nn.CrossEntropyLoss()\n",
        "optimizer = optim.SGD(model.parameters(), lr=0.001)\n",
        "scheduler = MyCyclicLR(optimizer, base_lr=1e-3, max_lr=6e-3)"
      ],
      "execution_count": 0,
      "outputs": []
    },
    {
      "cell_type": "code",
      "metadata": {
        "id": "XqVcF8eintou",
        "colab_type": "code",
        "colab": {
          "base_uri": "https://localhost:8080/",
          "height": 571
        },
        "outputId": "6401bb07-cb12-4a1b-bedd-40d1206a0338"
      },
      "source": [
        "EPOCHS = 2\n",
        "print_every = 2000\n",
        "\n",
        "learning_rate = []\n",
        "\n",
        "for epoch in range(EPOCHS):\n",
        "  \n",
        "  running_loss = 0.0\n",
        "  \n",
        "  for iters, data in enumerate(trainloader, 0):\n",
        "    inputs, labels = data[0].to(device), data[1].to(device) \n",
        "    \n",
        "#     make gradients parameter zero\n",
        "    optimizer.zero_grad()\n",
        "    \n",
        "    learning_rate.append(scheduler.get_lr())\n",
        "    \n",
        "#     forward propagation\n",
        "    outputs = model(inputs)\n",
        "#   calculate loss\n",
        "    loss = criterion(outputs, labels)\n",
        "#   do backward propagation\n",
        "    loss.backward()\n",
        "#   update scheduler\n",
        "    scheduler.step()\n",
        "#   update weights\n",
        "    optimizer.step()\n",
        "   \n",
        "#     print result\n",
        "    running_loss += loss.item()\n",
        "    if iters % print_every == 1999:\n",
        "      print(\"epoch: %d, iterations: %5d, loss: %.3f\" % \n",
        "           (epoch + 1, iters + 1, running_loss / print_every))\n",
        "      \n",
        "      running_loss = 0.0\n",
        "\n",
        "\n",
        "plt.plot(learning_rate)\n",
        "plt.xlabel('iterations')\n",
        "plt.ylabel('learning rate')\n",
        "plt.title(\"Triangular Cyclical Learning Rate\")\n",
        "plt.show()\n",
        "print(\"Finished Training\")"
      ],
      "execution_count": 14,
      "outputs": [
        {
          "output_type": "stream",
          "text": [
            "epoch: 1, iterations:  2000, loss: 2.256\n",
            "epoch: 1, iterations:  4000, loss: 0.692\n",
            "epoch: 1, iterations:  6000, loss: 0.359\n",
            "epoch: 1, iterations:  8000, loss: 0.232\n",
            "epoch: 1, iterations: 10000, loss: 0.181\n",
            "epoch: 1, iterations: 12000, loss: 0.151\n",
            "epoch: 1, iterations: 14000, loss: 0.135\n",
            "epoch: 2, iterations:  2000, loss: 0.103\n",
            "epoch: 2, iterations:  4000, loss: 0.120\n",
            "epoch: 2, iterations:  6000, loss: 0.086\n",
            "epoch: 2, iterations:  8000, loss: 0.099\n",
            "epoch: 2, iterations: 10000, loss: 0.090\n",
            "epoch: 2, iterations: 12000, loss: 0.097\n",
            "epoch: 2, iterations: 14000, loss: 0.074\n"
          ],
          "name": "stdout"
        },
        {
          "output_type": "display_data",
          "data": {
            "image/png": "[encoded data removed]",
            "text/plain": [
              "<Figure size 432x288 with 1 Axes>"
            ]
          },
          "metadata": {
            "tags": []
          }
        },
        {
          "output_type": "stream",
          "text": [
            "Finished Training\n"
          ],
          "name": "stdout"
        }
      ]
    },
    {
      "cell_type": "markdown",
      "metadata": {
        "id": "JU76R1jO0x5B",
        "colab_type": "text"
      },
      "source": [
        "As you can see from the graph, the learning rate scheduler has formed triangular structure throughout the iterations. "
      ]
    },
    {
      "cell_type": "code",
      "metadata": {
        "id": "3a7M82TOypAQ",
        "colab_type": "code",
        "colab": {
          "base_uri": "https://localhost:8080/",
          "height": 35
        },
        "outputId": "4b21f466-b556-424c-85d8-077e570d2f4a"
      },
      "source": [
        "correct1 = 0\n",
        "total = 0\n",
        "\n",
        "with torch.no_grad():\n",
        "  for data in testloader:\n",
        "    images, labels = data[0].to(device), data[1].to(device)\n",
        "    output1 = model(images)\n",
        "    \n",
        "    _, predicted = torch.max(output1.data, 1)\n",
        "    \n",
        "    total += labels.size(0)\n",
        "    \n",
        "    correct1 += (predicted == labels).sum().item()\n",
        "    \n",
        "print(\"Accuracy of the network using custom CLR: %2.3f %%\" % (100 * correct1 / total))"
      ],
      "execution_count": 15,
      "outputs": [
        {
          "output_type": "stream",
          "text": [
            "Accuracy of the network using custom CLR: 97.460 %\n"
          ],
          "name": "stdout"
        }
      ]
    }
  ]
}