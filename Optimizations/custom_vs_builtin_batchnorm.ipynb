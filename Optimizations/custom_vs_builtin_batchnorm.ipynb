{
  "nbformat": 4,
  "nbformat_minor": 0,
  "metadata": {
    "colab": {
      "name": "custom_vs_builtin_batchnorm.ipynb",
      "version": "0.3.2",
      "provenance": [],
      "collapsed_sections": []
    },
    "kernelspec": {
      "name": "python3",
      "display_name": "Python 3"
    },
    "accelerator": "GPU"
  },
  "cells": [
    {
      "cell_type": "code",
      "metadata": {
        "id": "LDjTprK0EzeY",
        "colab_type": "code",
        "colab": {}
      },
      "source": [
        "import torch\n",
        "import torchvision\n",
        "import torch.nn as nn\n",
        "import torch.nn.functional as F\n",
        "import torch.optim as optim\n",
        "import torchvision.transforms as transforms"
      ],
      "execution_count": 0,
      "outputs": []
    },
    {
      "cell_type": "code",
      "metadata": {
        "id": "rnyv5jWqF3aA",
        "colab_type": "code",
        "colab": {
          "base_uri": "https://localhost:8080/",
          "height": 72
        },
        "outputId": "91871904-73c0-4064-feea-3e5e695636f5"
      },
      "source": [
        "transform = transforms.Compose(\n",
        "    [ transforms.ToTensor(),\n",
        "      transforms.Normalize((0.5,0.5,0.5),(0.5,0.5,0.5))\n",
        "    ])\n",
        "\n",
        "batch_size = 4\n",
        "\n",
        "trainset = torchvision.datasets.CIFAR10(root='./data', train=True,\n",
        "                                        download=True, transform=transform)\n",
        "trainloader = torch.utils.data.DataLoader(trainset, \n",
        "                                          batch_size=batch_size,\n",
        "                                          shuffle=True,\n",
        "                                          num_workers=2\n",
        "                                         )\n",
        "\n",
        "testset = torchvision.datasets.CIFAR10(root='./data', train=False,\n",
        "                                       download=True, transform=transform)\n",
        "testloader = torch.utils.data.DataLoader(testset, \n",
        "                                         batch_size=batch_size,\n",
        "                                         shuffle=False, \n",
        "                                         num_workers=2\n",
        "                                        )\n",
        "\n",
        "classes = ('plane', 'car', 'bird', 'cat',\n",
        "           'deer', 'dog', 'frog', 'horse', 'ship', 'truck')"
      ],
      "execution_count": 2,
      "outputs": [
        {
          "output_type": "stream",
          "text": [
            "\r0it [00:00, ?it/s]"
          ],
          "name": "stderr"
        },
        {
          "output_type": "stream",
          "text": [
            "Downloading https://www.cs.toronto.edu/~kriz/cifar-10-python.tar.gz to ./data/cifar-10-python.tar.gz\n"
          ],
          "name": "stdout"
        },
        {
          "output_type": "stream",
          "text": [
            "170500096it [00:06, 27123227.82it/s]                               \n"
          ],
          "name": "stderr"
        },
        {
          "output_type": "stream",
          "text": [
            "Files already downloaded and verified\n"
          ],
          "name": "stdout"
        }
      ]
    },
    {
      "cell_type": "code",
      "metadata": {
        "id": "n_Hmock_Go3p",
        "colab_type": "code",
        "colab": {
          "base_uri": "https://localhost:8080/",
          "height": 157
        },
        "outputId": "634bfb3b-9b23-4c67-a960-e129a82ef41f"
      },
      "source": [
        "import matplotlib.pyplot as plt\n",
        "import numpy as np\n",
        "\n",
        "# functions to show an image\n",
        "\n",
        "def imshow(img):\n",
        "    img = img / 2 + 0.5     # unnormalize\n",
        "    npimg = img.numpy()\n",
        "    plt.imshow(np.transpose(npimg, (1, 2, 0)))\n",
        "    plt.show()\n",
        "\n",
        "# get some random training images\n",
        "dataiter = iter(trainloader)\n",
        "images, labels = dataiter.next()\n",
        "\n",
        "# show images\n",
        "imshow(torchvision.utils.make_grid(images))\n",
        "# print labels\n",
        "print(' '.join('%5s' % classes[labels[j]] for j in range(4)))"
      ],
      "execution_count": 3,
      "outputs": [
        {
          "output_type": "display_data",
          "data": {
            "image/png": "[encoded data removed]",
            "text/plain": [
              "<Figure size 432x288 with 1 Axes>"
            ]
          },
          "metadata": {
            "tags": []
          }
        },
        {
          "output_type": "stream",
          "text": [
            "  car   cat   dog truck\n"
          ],
          "name": "stdout"
        }
      ]
    },
    {
      "cell_type": "code",
      "metadata": {
        "id": "DkePeNLQLf0N",
        "colab_type": "code",
        "colab": {}
      },
      "source": [
        "# input = torch.randn(2,3,2,2) * 4 + 3\n",
        "# mean = torch.mean(input, dim=(0,2,3))\n",
        "# print(mean[None, :, None, None])\n",
        "# input = input - mean[None, :, None, None]\n",
        "# print(input)"
      ],
      "execution_count": 0,
      "outputs": []
    },
    {
      "cell_type": "markdown",
      "metadata": {
        "id": "zQCVwokd4s1M",
        "colab_type": "text"
      },
      "source": [
        "# **Batch normalization algorithm**\n",
        "\n",
        "**Input**: Values of $x$ over a mini-batch: $\\beta = \\left \\{ x_{1..m} \\right \\};$ \n",
        "\n",
        "Parameters to be learned: $\\gamma, \\beta$\n",
        "\n",
        "**Output**:  $ \\left \\{ y_{i} = \\mathrm{BN_{\\gamma,\\beta}}(x_i)  \\right \\} $ \n",
        "\n",
        "$\\mu_{B} \\leftarrow  \\frac{1}{m}\\sum_{i=1}^{m}x_{i}$    //mini batch mean\n",
        " \n",
        " $\\sigma_{B}^{2} \\leftarrow \\frac{1}{m}\\sum_{i=1}^{m} (x_{i} - \\mu_{B})^{2}$    //mini-batch variance \n",
        " \n",
        " $\\widehat{x}_{i} \\leftarrow \\frac{x_{i} - \\mu_{B}}{\\sqrt{\\sigma_{B}^{2} + \\epsilon}}$    //normalize \n",
        " \n",
        " $y_{i} \\leftarrow \\gamma \\widehat{x}_{i} + \\beta \\equiv \\mathrm{BN_{\\gamma,\\beta}}(x_i)$     //scale and shift \n",
        " \n",
        " Now at training time we calculate mean and variance for each mini-batch. But in inference time we do not calculate mean and variance for test data. Rather we calculate population average of mean and variances after training, using all the mini-batch mean and variances. Then at evaluation, we fix the mean and variance to this value. \n",
        " \n",
        " $\\mathbb{E}[x] \\leftarrow \\mathbb{E}_{B}[\\mu_{B}]$\n",
        " \n",
        " $Var[x] \\leftarrow \\frac{m}{m-1} \\mathbb{E}_{B}[\\sigma_{B}^{2}]$\n",
        " \n",
        " But it is difficult to keep track of all the mini-batch mean and variances. So, that's why, exponential weighted *moving average* is used to update population mean and variance\n",
        " \n",
        " $\\mu_{mov} = \\alpha * \\mu_{mov} + (1-\\alpha)*\\mu_{B}$\n",
        " \n",
        " $\\sigma^{2}_{mov} = \\alpha * \\sigma_{mov}^{2} + (1-\\alpha)*\\sigma_{B}^{2}$\n",
        " \n",
        "\n",
        "\n",
        "> Done in Line $22$ and $24$\n",
        "\n",
        "\n",
        " \n",
        " Here $\\alpha$ is the momentum and the ones with $B$ subscript are mini-batch mean and variance.\n",
        " \n",
        " Also a note that the *moving mean and variance* are calculated at training time but not at evaluation. That's why the whole calculation is in \"if\" block of \"self.training\" at line $12$."
      ]
    },
    {
      "cell_type": "code",
      "metadata": {
        "id": "6Eww9YaSHXO7",
        "colab_type": "code",
        "colab": {}
      },
      "source": [
        "# Batch Normalization \n",
        "class MyBatchNorm2d(nn.BatchNorm2d):\n",
        "  def __init__(self, num_features, eps = 1e-5, momentum=0.1, affine=True, track_running_stats=True):\n",
        "    super(MyBatchNorm2d, self).__init__(num_features, eps = 1e-5, momentum=0.1, affine=True, track_running_stats=True)\n",
        "  \n",
        "  def forward(self, x):\n",
        "    self._check_input_dim(x) \n",
        "    \n",
        "    momentum = self.momentum\n",
        "    \n",
        "#     for training\n",
        "    if self.training:\n",
        "    # (batch_size, no_of_channel, row, column). We want to take mean and variance over 3 channels. The normalization is done along channel axis.\n",
        "#     Why? Hint: Weight Sharing\n",
        "      mean = torch.mean(x, dim=(0, 2, 3))\n",
        "      var = torch.var(x, dim=(0, 2, 3), unbiased=False) # biased variance is used in training.\n",
        "      m = x.numel() / x.size(1)  # no of elements(batch_size * channel_no * row * column) / channel no = no of elements of each channel per batch\n",
        "      \n",
        "#     According to batchnorm paper, Take population average for running mean and variance\n",
        "#     and take an exponential weighted moving average of those two.\n",
        "      with torch.no_grad():\n",
        "        self.running_mean = momentum * mean + (1 - momentum) * self.running_mean\n",
        "        \n",
        "        self.running_var = momentum * var * m / (m-1) + (1 - momentum) * self.running_var\n",
        "\n",
        "    #   for evaluation\n",
        "    else:\n",
        "      mean = self.running_mean # for evaluation use the running_mean that was used in training\n",
        "      var = self.running_var # same\n",
        "      \n",
        "#     Normalization eqn, x = (x - mu) / sqrt(var + epsilon)  \n",
        "    x = ( x - mean[None, :, None, None]) / (torch.sqrt(var[None, :, None, None] + self.eps))  \n",
        "    \n",
        "#     affine is used to update the parameter (gamma, beta). So weight = gamma and bias = beta.\n",
        "#   The equation of BatchNorm for output, y = gamma * x + Beta \n",
        "    if self.affine:\n",
        "      x = x * self.weight[None,:,None,None] + self.bias[None,:,None,None]\n",
        "    \n",
        "    return x "
      ],
      "execution_count": 0,
      "outputs": []
    },
    {
      "cell_type": "code",
      "metadata": {
        "id": "91QsZJhTPFIE",
        "colab_type": "code",
        "colab": {
          "base_uri": "https://localhost:8080/",
          "height": 35
        },
        "outputId": "94619367-3d3d-4376-cb11-e2733b8b8002"
      },
      "source": [
        "# check if BatchNorm works compared with BatchNorm of pytorch.\n",
        "x = torch.randn(2,3,4,4) * 8 + 3\n",
        "my_bn = MyBatchNorm2d(3, affine=True)\n",
        "torch_bn = nn.BatchNorm2d(3, affine=True)\n",
        "out1 = my_bn(x)\n",
        "out2 = torch_bn(x)\n",
        "print('Max diff: ', (out1 - out2).abs().max().item())"
      ],
      "execution_count": 6,
      "outputs": [
        {
          "output_type": "stream",
          "text": [
            "Max diff:  0.7433098554611206\n"
          ],
          "name": "stdout"
        }
      ]
    },
    {
      "cell_type": "code",
      "metadata": {
        "id": "AyPLSYpoG74q",
        "colab_type": "code",
        "colab": {
          "base_uri": "https://localhost:8080/",
          "height": 201
        },
        "outputId": "2b92c9d3-7d49-457f-b8e1-143a59e5859e"
      },
      "source": [
        "class ModelWithMyBatchNorm(nn.Module):\n",
        "    def __init__(self):\n",
        "        super(ModelWithMyBatchNorm, self).__init__()\n",
        "        \n",
        "        self.conv1 = nn.Conv2d(3, 6, 5)\n",
        "        self.bn1 = MyBatchNorm2d(6)\n",
        "        self.pool = nn.MaxPool2d(2, 2)\n",
        "        self.conv2 = nn.Conv2d(6, 16, 5)\n",
        "        self.bn2 = MyBatchNorm2d(16)\n",
        "        \n",
        "        self.fc1 = nn.Linear(16 * 5 * 5, 120)\n",
        "        self.fc2 = nn.Linear(120, 84)\n",
        "        self.fc3 = nn.Linear(84, 10)\n",
        "\n",
        "    def forward(self, x):\n",
        "        x = self.pool(F.relu(self.bn1((self.conv1(x)))))\n",
        "        x = self.pool(F.relu(self.bn2((self.conv2(x)))))\n",
        "        \n",
        "        x = x.view(-1, 16 * 5 * 5)\n",
        "        x = F.relu(self.fc1(x))\n",
        "        x = F.relu(self.fc2(x))\n",
        "        x = self.fc3(x)\n",
        "        return x\n",
        "\n",
        "model = ModelWithMyBatchNorm()\n",
        "print(model)"
      ],
      "execution_count": 7,
      "outputs": [
        {
          "output_type": "stream",
          "text": [
            "ModelWithMyBatchNorm(\n",
            "  (conv1): Conv2d(3, 6, kernel_size=(5, 5), stride=(1, 1))\n",
            "  (bn1): MyBatchNorm2d(6, eps=1e-05, momentum=0.1, affine=True, track_running_stats=True)\n",
            "  (pool): MaxPool2d(kernel_size=2, stride=2, padding=0, dilation=1, ceil_mode=False)\n",
            "  (conv2): Conv2d(6, 16, kernel_size=(5, 5), stride=(1, 1))\n",
            "  (bn2): MyBatchNorm2d(16, eps=1e-05, momentum=0.1, affine=True, track_running_stats=True)\n",
            "  (fc1): Linear(in_features=400, out_features=120, bias=True)\n",
            "  (fc2): Linear(in_features=120, out_features=84, bias=True)\n",
            "  (fc3): Linear(in_features=84, out_features=10, bias=True)\n",
            ")\n"
          ],
          "name": "stdout"
        }
      ]
    },
    {
      "cell_type": "code",
      "metadata": {
        "id": "DFyX-WSXWGFg",
        "colab_type": "code",
        "colab": {
          "base_uri": "https://localhost:8080/",
          "height": 201
        },
        "outputId": "b728534d-3cbf-4924-f693-82a46e8206f7"
      },
      "source": [
        "device = torch.device(\"cuda:0\" if torch.cuda.is_available() else \"cpu\")\n",
        "\n",
        "model.to(device)"
      ],
      "execution_count": 8,
      "outputs": [
        {
          "output_type": "execute_result",
          "data": {
            "text/plain": [
              "ModelWithMyBatchNorm(\n",
              "  (conv1): Conv2d(3, 6, kernel_size=(5, 5), stride=(1, 1))\n",
              "  (bn1): MyBatchNorm2d(6, eps=1e-05, momentum=0.1, affine=True, track_running_stats=True)\n",
              "  (pool): MaxPool2d(kernel_size=2, stride=2, padding=0, dilation=1, ceil_mode=False)\n",
              "  (conv2): Conv2d(6, 16, kernel_size=(5, 5), stride=(1, 1))\n",
              "  (bn2): MyBatchNorm2d(16, eps=1e-05, momentum=0.1, affine=True, track_running_stats=True)\n",
              "  (fc1): Linear(in_features=400, out_features=120, bias=True)\n",
              "  (fc2): Linear(in_features=120, out_features=84, bias=True)\n",
              "  (fc3): Linear(in_features=84, out_features=10, bias=True)\n",
              ")"
            ]
          },
          "metadata": {
            "tags": []
          },
          "execution_count": 8
        }
      ]
    },
    {
      "cell_type": "code",
      "metadata": {
        "id": "R5u4jgkVTKGr",
        "colab_type": "code",
        "colab": {}
      },
      "source": [
        "criterion = nn.CrossEntropyLoss()\n",
        "optimizer = optim.Adam(model.parameters(), lr=0.001)"
      ],
      "execution_count": 0,
      "outputs": []
    },
    {
      "cell_type": "code",
      "metadata": {
        "id": "t3rY-8fjUq7I",
        "colab_type": "code",
        "colab": {
          "base_uri": "https://localhost:8080/",
          "height": 586
        },
        "outputId": "c4894bc9-eeae-4c86-f584-af9642d362ee"
      },
      "source": [
        "EPOCHS = 5\n",
        "print_every = 2000\n",
        "\n",
        "for epoch in range(EPOCHS):\n",
        "  \n",
        "  running_loss = 0.0\n",
        "  \n",
        "  for iters, data in enumerate(trainloader, 0):\n",
        "    inputs, labels = data[0].to(device), data[1].to(device) \n",
        "    \n",
        "#     make gradients parameter zero\n",
        "    optimizer.zero_grad()\n",
        "    \n",
        "#     forward propagation\n",
        "    outputs = model(inputs)\n",
        "#   calculate loss\n",
        "    loss = criterion(outputs, labels)\n",
        "#   do backward propagation\n",
        "    loss.backward()\n",
        "#   update weights\n",
        "    optimizer.step()\n",
        "    \n",
        "#     print result\n",
        "    running_loss += loss.item()\n",
        "    if iters % print_every == 1999:\n",
        "      print(\"epoch: %d, iterations: %5d, loss: %.3f\" % \n",
        "           (epoch + 1, iters + 1, running_loss / print_every))\n",
        "      \n",
        "      running_loss = 0.0\n",
        "      \n",
        "print(\"Finished Training\")"
      ],
      "execution_count": 10,
      "outputs": [
        {
          "output_type": "stream",
          "text": [
            "epoch: 1, iterations:  2000, loss: 1.875\n",
            "epoch: 1, iterations:  4000, loss: 1.666\n",
            "epoch: 1, iterations:  6000, loss: 1.587\n",
            "epoch: 1, iterations:  8000, loss: 1.526\n",
            "epoch: 1, iterations: 10000, loss: 1.477\n",
            "epoch: 1, iterations: 12000, loss: 1.432\n",
            "epoch: 2, iterations:  2000, loss: 1.381\n",
            "epoch: 2, iterations:  4000, loss: 1.349\n",
            "epoch: 2, iterations:  6000, loss: 1.320\n",
            "epoch: 2, iterations:  8000, loss: 1.302\n",
            "epoch: 2, iterations: 10000, loss: 1.320\n",
            "epoch: 2, iterations: 12000, loss: 1.274\n",
            "epoch: 3, iterations:  2000, loss: 1.201\n",
            "epoch: 3, iterations:  4000, loss: 1.227\n",
            "epoch: 3, iterations:  6000, loss: 1.220\n",
            "epoch: 3, iterations:  8000, loss: 1.192\n",
            "epoch: 3, iterations: 10000, loss: 1.188\n",
            "epoch: 3, iterations: 12000, loss: 1.194\n",
            "epoch: 4, iterations:  2000, loss: 1.152\n",
            "epoch: 4, iterations:  4000, loss: 1.132\n",
            "epoch: 4, iterations:  6000, loss: 1.133\n",
            "epoch: 4, iterations:  8000, loss: 1.106\n",
            "epoch: 4, iterations: 10000, loss: 1.139\n",
            "epoch: 4, iterations: 12000, loss: 1.106\n",
            "epoch: 5, iterations:  2000, loss: 1.062\n",
            "epoch: 5, iterations:  4000, loss: 1.082\n",
            "epoch: 5, iterations:  6000, loss: 1.084\n",
            "epoch: 5, iterations:  8000, loss: 1.080\n",
            "epoch: 5, iterations: 10000, loss: 1.089\n",
            "epoch: 5, iterations: 12000, loss: 1.074\n",
            "Finished Training\n"
          ],
          "name": "stdout"
        }
      ]
    },
    {
      "cell_type": "markdown",
      "metadata": {
        "id": "pkWQS8Ie3Ogn",
        "colab_type": "text"
      },
      "source": [
        "Let's implement without batch normalization"
      ]
    },
    {
      "cell_type": "code",
      "metadata": {
        "id": "WmbopYIg1yr1",
        "colab_type": "code",
        "colab": {
          "base_uri": "https://localhost:8080/",
          "height": 384
        },
        "outputId": "e438a203-2827-4bc4-b76e-6a083f0e9e66"
      },
      "source": [
        "class ModelWithBatchNorm(nn.Module):\n",
        "    def __init__(self):\n",
        "        super(ModelWithBatchNorm, self).__init__()\n",
        "        \n",
        "        self.conv1 = nn.Conv2d(3, 6, 5)\n",
        "        self.bn1 = nn.BatchNorm2d(6)\n",
        "        self.pool = nn.MaxPool2d(2, 2)\n",
        "        self.conv2 = nn.Conv2d(6, 16, 5)\n",
        "        self.bn2 = nn.BatchNorm2d(16)\n",
        "        \n",
        "        self.fc1 = nn.Linear(16 * 5 * 5, 120)\n",
        "        self.fc2 = nn.Linear(120, 84)\n",
        "        self.fc3 = nn.Linear(84, 10)\n",
        "\n",
        "    def forward(self, x):\n",
        "        x = self.pool(F.relu(self.bn1((self.conv1(x)))))\n",
        "        x = self.pool(F.relu(self.bn2((self.conv2(x)))))\n",
        "        \n",
        "        x = x.view(-1, 16 * 5 * 5)\n",
        "        x = F.relu(self.fc1(x))\n",
        "        x = F.relu(self.fc2(x))\n",
        "        x = self.fc3(x)\n",
        "        return x\n",
        "\n",
        "model2 = ModelWithBatchNorm()\n",
        "print(model2)\n",
        "model2.to(device)"
      ],
      "execution_count": 11,
      "outputs": [
        {
          "output_type": "stream",
          "text": [
            "ModelWithBatchNorm(\n",
            "  (conv1): Conv2d(3, 6, kernel_size=(5, 5), stride=(1, 1))\n",
            "  (bn1): BatchNorm2d(6, eps=1e-05, momentum=0.1, affine=True, track_running_stats=True)\n",
            "  (pool): MaxPool2d(kernel_size=2, stride=2, padding=0, dilation=1, ceil_mode=False)\n",
            "  (conv2): Conv2d(6, 16, kernel_size=(5, 5), stride=(1, 1))\n",
            "  (bn2): BatchNorm2d(16, eps=1e-05, momentum=0.1, affine=True, track_running_stats=True)\n",
            "  (fc1): Linear(in_features=400, out_features=120, bias=True)\n",
            "  (fc2): Linear(in_features=120, out_features=84, bias=True)\n",
            "  (fc3): Linear(in_features=84, out_features=10, bias=True)\n",
            ")\n"
          ],
          "name": "stdout"
        },
        {
          "output_type": "execute_result",
          "data": {
            "text/plain": [
              "ModelWithBatchNorm(\n",
              "  (conv1): Conv2d(3, 6, kernel_size=(5, 5), stride=(1, 1))\n",
              "  (bn1): BatchNorm2d(6, eps=1e-05, momentum=0.1, affine=True, track_running_stats=True)\n",
              "  (pool): MaxPool2d(kernel_size=2, stride=2, padding=0, dilation=1, ceil_mode=False)\n",
              "  (conv2): Conv2d(6, 16, kernel_size=(5, 5), stride=(1, 1))\n",
              "  (bn2): BatchNorm2d(16, eps=1e-05, momentum=0.1, affine=True, track_running_stats=True)\n",
              "  (fc1): Linear(in_features=400, out_features=120, bias=True)\n",
              "  (fc2): Linear(in_features=120, out_features=84, bias=True)\n",
              "  (fc3): Linear(in_features=84, out_features=10, bias=True)\n",
              ")"
            ]
          },
          "metadata": {
            "tags": []
          },
          "execution_count": 11
        }
      ]
    },
    {
      "cell_type": "code",
      "metadata": {
        "id": "66V4_n_j2DPG",
        "colab_type": "code",
        "colab": {}
      },
      "source": [
        "criterion = nn.CrossEntropyLoss()\n",
        "optimizer2 = optim.Adam(model2.parameters(), lr=0.001)"
      ],
      "execution_count": 0,
      "outputs": []
    },
    {
      "cell_type": "code",
      "metadata": {
        "id": "oSV54M4m2Min",
        "colab_type": "code",
        "colab": {
          "base_uri": "https://localhost:8080/",
          "height": 586
        },
        "outputId": "8aa15e9f-a378-4300-8437-652fd7f46591"
      },
      "source": [
        "for epoch in range(EPOCHS):\n",
        "  \n",
        "  running_loss = 0.0\n",
        "  \n",
        "  for iters, data in enumerate(trainloader, 0):\n",
        "    inputs, labels = data[0].to(device), data[1].to(device) \n",
        "    \n",
        "#     make gradients parameter zero\n",
        "    optimizer2.zero_grad()\n",
        "    \n",
        "#     forward propagation\n",
        "    outputs = model2(inputs)\n",
        "#   calculate loss\n",
        "    loss = criterion(outputs, labels)\n",
        "#   do backward propagation\n",
        "    loss.backward()\n",
        "#   update weights\n",
        "    optimizer2.step()\n",
        "    \n",
        "#     print result\n",
        "    running_loss += loss.item()\n",
        "    if iters % print_every == 1999:\n",
        "      print(\"epoch: %d, iterations: %5d, loss: %.3f\" % \n",
        "           (epoch + 1, iters + 1, running_loss / print_every))\n",
        "      \n",
        "      running_loss = 0.0\n",
        "      \n",
        "print(\"Finished Training\")"
      ],
      "execution_count": 13,
      "outputs": [
        {
          "output_type": "stream",
          "text": [
            "epoch: 1, iterations:  2000, loss: 1.891\n",
            "epoch: 1, iterations:  4000, loss: 1.660\n",
            "epoch: 1, iterations:  6000, loss: 1.554\n",
            "epoch: 1, iterations:  8000, loss: 1.509\n",
            "epoch: 1, iterations: 10000, loss: 1.452\n",
            "epoch: 1, iterations: 12000, loss: 1.428\n",
            "epoch: 2, iterations:  2000, loss: 1.359\n",
            "epoch: 2, iterations:  4000, loss: 1.357\n",
            "epoch: 2, iterations:  6000, loss: 1.318\n",
            "epoch: 2, iterations:  8000, loss: 1.330\n",
            "epoch: 2, iterations: 10000, loss: 1.293\n",
            "epoch: 2, iterations: 12000, loss: 1.296\n",
            "epoch: 3, iterations:  2000, loss: 1.219\n",
            "epoch: 3, iterations:  4000, loss: 1.243\n",
            "epoch: 3, iterations:  6000, loss: 1.231\n",
            "epoch: 3, iterations:  8000, loss: 1.205\n",
            "epoch: 3, iterations: 10000, loss: 1.212\n",
            "epoch: 3, iterations: 12000, loss: 1.222\n",
            "epoch: 4, iterations:  2000, loss: 1.167\n",
            "epoch: 4, iterations:  4000, loss: 1.184\n",
            "epoch: 4, iterations:  6000, loss: 1.151\n",
            "epoch: 4, iterations:  8000, loss: 1.150\n",
            "epoch: 4, iterations: 10000, loss: 1.149\n",
            "epoch: 4, iterations: 12000, loss: 1.133\n",
            "epoch: 5, iterations:  2000, loss: 1.099\n",
            "epoch: 5, iterations:  4000, loss: 1.127\n",
            "epoch: 5, iterations:  6000, loss: 1.099\n",
            "epoch: 5, iterations:  8000, loss: 1.115\n",
            "epoch: 5, iterations: 10000, loss: 1.104\n",
            "epoch: 5, iterations: 12000, loss: 1.119\n",
            "Finished Training\n"
          ],
          "name": "stdout"
        }
      ]
    },
    {
      "cell_type": "code",
      "metadata": {
        "id": "F4T_ep3O22FI",
        "colab_type": "code",
        "colab": {
          "base_uri": "https://localhost:8080/",
          "height": 72
        },
        "outputId": "a98c9096-7d75-483a-9202-278c047308f0"
      },
      "source": [
        "correct1, correct2 = 0, 0\n",
        "total = 0\n",
        "\n",
        "with torch.no_grad():\n",
        "  for data in testloader:\n",
        "    images, labels = data[0].to(device), data[1].to(device)\n",
        "    output1 = model(images)\n",
        "    output2 = model2(images)\n",
        "    \n",
        "    _, predicted = torch.max(output1.data, 1)\n",
        "    _, predicted2 = torch.max(output2.data, 1)\n",
        "    \n",
        "    total += labels.size(0)\n",
        "    \n",
        "    correct1 += (predicted == labels).sum().item()\n",
        "    correct2 += (predicted2 == labels).sum().item()\n",
        "    \n",
        "print(\"Accuracy of the network using my batch norm: %2.3f %%\" % (100 * correct1 / total))\n",
        "print(\"Accuracy of the network using pytorch's built-in batch norm: %2.3f %%\" % (100 * correct2 / total))\n",
        "print(\"Diff: %.3f\" % ((100 * correct1 / total) - (100 * correct2 / total)))"
      ],
      "execution_count": 17,
      "outputs": [
        {
          "output_type": "stream",
          "text": [
            "Accuracy of the network using my batch norm: 59.060 %\n",
            "Accuracy of the network using pytorch's built-in batch norm: 59.500 %\n",
            "Diff: -0.440\n"
          ],
          "name": "stdout"
        }
      ]
    }
  ]
}